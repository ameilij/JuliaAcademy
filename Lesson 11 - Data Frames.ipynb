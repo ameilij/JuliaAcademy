{
 "cells": [
  {
   "cell_type": "markdown",
   "metadata": {},
   "source": [
    "# Lesson 11: Data Frames\n",
    "\n",
    "\n",
    "## Introduction\n",
    "Objects of the data frame type represent a data table as a series of vectors, each corresponding to a column or variable. The simplest way of constructing a data frame is to pass column vectors using keyword arguments or pairs. "
   ]
  },
  {
   "cell_type": "code",
   "execution_count": 1,
   "metadata": {},
   "outputs": [
    {
     "data": {
      "text/html": [
       "<table class=\"data-frame\"><thead><tr><th></th><th>A</th><th>B</th></tr><tr><th></th><th>Int64</th><th>String</th></tr></thead><tbody><p>4 rows × 2 columns</p><tr><th>1</th><td>1</td><td>M</td></tr><tr><th>2</th><td>2</td><td>F</td></tr><tr><th>3</th><td>3</td><td>F</td></tr><tr><th>4</th><td>4</td><td>M</td></tr></tbody></table>"
      ],
      "text/latex": [
       "\\begin{tabular}{r|cc}\n",
       "\t& A & B\\\\\n",
       "\t\\hline\n",
       "\t& Int64 & String\\\\\n",
       "\t\\hline\n",
       "\t1 & 1 & M \\\\\n",
       "\t2 & 2 & F \\\\\n",
       "\t3 & 3 & F \\\\\n",
       "\t4 & 4 & M \\\\\n",
       "\\end{tabular}\n"
      ],
      "text/plain": [
       "4×2 DataFrame\n",
       "│ Row │ A     │ B      │\n",
       "│     │ \u001b[90mInt64\u001b[39m │ \u001b[90mString\u001b[39m │\n",
       "├─────┼───────┼────────┤\n",
       "│ 1   │ 1     │ M      │\n",
       "│ 2   │ 2     │ F      │\n",
       "│ 3   │ 3     │ F      │\n",
       "│ 4   │ 4     │ M      │"
      ]
     },
     "execution_count": 1,
     "metadata": {},
     "output_type": "execute_result"
    }
   ],
   "source": [
    "using DataFrames\n",
    "df = DataFrame(A = 1:4, B = [\"M\", \"F\", \"F\", \"M\"])"
   ]
  },
  {
   "cell_type": "markdown",
   "metadata": {},
   "source": [
    "There are several ways to access a column. \n",
    "\n",
    "* df.col\n",
    "* df.\"col\"\n",
    "* df[!, \"col\"]\n",
    "* df[!, :col]\n",
    "\n",
    "Let's take a look at each.\n",
    "\n",
    "* The two latter syntaxes are more flexible as they allow passing a variable holding the name of the column, and not only a literal name. \n",
    "\n",
    "* Column names can be either symbols _:col_, _:var \"col\"_ or _symbol(\"col\")_ or even strings _\"col\"_.\n",
    "\n",
    "* Columns can also be accessed using an integet index of the position of the column. \n",
    "\n",
    "Be careful!\n",
    "\n",
    "* The line df[!, :col] does not make a copy, it changes the elements of the column vector returned, affecting the original value of the data frame.\n",
    "\n",
    "* To get a copy use df[:, :col] instead."
   ]
  },
  {
   "cell_type": "code",
   "execution_count": null,
   "metadata": {},
   "outputs": [],
   "source": [
    "# GET FIRST COLUMN\n",
    "df.A\n",
    "df.\"A\"\n",
    "df[:, 1]\n",
    "\n",
    "# GET EXACTLY\n",
    "df[1,1]\n",
    "df[2,2]"
   ]
  },
  {
   "cell_type": "markdown",
   "metadata": {},
   "source": [
    "We can also construct a data frame by column or row."
   ]
  },
  {
   "cell_type": "code",
   "execution_count": 3,
   "metadata": {},
   "outputs": [
    {
     "data": {
      "text/html": [
       "<table class=\"data-frame\"><thead><tr><th></th><th>A</th><th>B</th></tr><tr><th></th><th>Int64</th><th>String</th></tr></thead><tbody><p>8 rows × 2 columns</p><tr><th>1</th><td>1</td><td>M</td></tr><tr><th>2</th><td>2</td><td>F</td></tr><tr><th>3</th><td>3</td><td>M</td></tr><tr><th>4</th><td>4</td><td>F</td></tr><tr><th>5</th><td>5</td><td>M</td></tr><tr><th>6</th><td>6</td><td>F</td></tr><tr><th>7</th><td>7</td><td>M</td></tr><tr><th>8</th><td>8</td><td>F</td></tr></tbody></table>"
      ],
      "text/latex": [
       "\\begin{tabular}{r|cc}\n",
       "\t& A & B\\\\\n",
       "\t\\hline\n",
       "\t& Int64 & String\\\\\n",
       "\t\\hline\n",
       "\t1 & 1 & M \\\\\n",
       "\t2 & 2 & F \\\\\n",
       "\t3 & 3 & M \\\\\n",
       "\t4 & 4 & F \\\\\n",
       "\t5 & 5 & M \\\\\n",
       "\t6 & 6 & F \\\\\n",
       "\t7 & 7 & M \\\\\n",
       "\t8 & 8 & F \\\\\n",
       "\\end{tabular}\n"
      ],
      "text/plain": [
       "8×2 DataFrame\n",
       "│ Row │ A     │ B      │\n",
       "│     │ \u001b[90mInt64\u001b[39m │ \u001b[90mString\u001b[39m │\n",
       "├─────┼───────┼────────┤\n",
       "│ 1   │ 1     │ M      │\n",
       "│ 2   │ 2     │ F      │\n",
       "│ 3   │ 3     │ M      │\n",
       "│ 4   │ 4     │ F      │\n",
       "│ 5   │ 5     │ M      │\n",
       "│ 6   │ 6     │ F      │\n",
       "│ 7   │ 7     │ M      │\n",
       "│ 8   │ 8     │ F      │"
      ]
     },
     "execution_count": 3,
     "metadata": {},
     "output_type": "execute_result"
    }
   ],
   "source": [
    "df = DataFrame()\n",
    "df.A = 1:8\n",
    "df.B = [\"M\",\"F\",\"M\",\"F\",\"M\",\"F\",\"M\",\"F\"]\n",
    "df"
   ]
  },
  {
   "cell_type": "code",
   "execution_count": 4,
   "metadata": {},
   "outputs": [
    {
     "data": {
      "text/html": [
       "<table class=\"data-frame\"><thead><tr><th></th><th>A</th><th>B</th></tr><tr><th></th><th>Int64</th><th>String</th></tr></thead><tbody><p>3 rows × 2 columns</p><tr><th>1</th><td>1</td><td>M</td></tr><tr><th>2</th><td>1</td><td>F</td></tr><tr><th>3</th><td>3</td><td>F</td></tr></tbody></table>"
      ],
      "text/latex": [
       "\\begin{tabular}{r|cc}\n",
       "\t& A & B\\\\\n",
       "\t\\hline\n",
       "\t& Int64 & String\\\\\n",
       "\t\\hline\n",
       "\t1 & 1 & M \\\\\n",
       "\t2 & 1 & F \\\\\n",
       "\t3 & 3 & F \\\\\n",
       "\\end{tabular}\n"
      ],
      "text/plain": [
       "3×2 DataFrame\n",
       "│ Row │ A     │ B      │\n",
       "│     │ \u001b[90mInt64\u001b[39m │ \u001b[90mString\u001b[39m │\n",
       "├─────┼───────┼────────┤\n",
       "│ 1   │ 1     │ M      │\n",
       "│ 2   │ 1     │ F      │\n",
       "│ 3   │ 3     │ F      │"
      ]
     },
     "execution_count": 4,
     "metadata": {},
     "output_type": "execute_result"
    }
   ],
   "source": [
    "df = DataFrame(A = Int[], B = String[])\n",
    "push!(df, (1,\"M\"))\n",
    "push!(df, [1, \"F\"])\n",
    "\n",
    "# Use Dictionary\n",
    "push!(df, Dict(:B => \"F\", :A => 3))\n",
    "\n",
    "df"
   ]
  },
  {
   "cell_type": "markdown",
   "metadata": {},
   "source": [
    "## Tips for Working with Data Frames\n",
    "Here are some tips for working with data frames in Julia. "
   ]
  },
  {
   "cell_type": "code",
   "execution_count": null,
   "metadata": {},
   "outputs": [],
   "source": [
    "df = DataFrame()\n",
    "df.A = 1:8\n",
    "df.B = [\"M\",\"F\",\"M\",\"F\",\"M\",\"F\",\"M\",\"F\"]\n",
    "df\n",
    "\n",
    "# See top 3\n",
    "first(df, 3)\n",
    "\n",
    "# See last 3\n",
    "last(df, 3)\n",
    "\n",
    "# Create from a table\n",
    "df = DataFrame(a=[1,2,3], b=[:a, :b, :c])\n",
    "\n",
    "# Write to CSV\n",
    "# CSV.write(\"dataframe.csv\", df)\n"
   ]
  },
  {
   "cell_type": "markdown",
   "metadata": {},
   "source": [
    "## SubSetting\n",
    "Specific subsets of a data frame can be extracted using the index syntax similar to matrices. The colon _:_ indicates that all items should be retained. \n",
    "\n",
    "Note however that notations can change behavior. \n",
    "\n",
    "* The code `df[!, [:A]]` and `df[:, [:A]]` return a data frame\n",
    "* The code `df[!, :A]` and `df[:, :A]` return a vector"
   ]
  },
  {
   "cell_type": "code",
   "execution_count": 9,
   "metadata": {},
   "outputs": [
    {
     "data": {
      "text/html": [
       "<table class=\"data-frame\"><thead><tr><th></th><th>B</th></tr><tr><th></th><th>String</th></tr></thead><tbody><p>3 rows × 1 columns</p><tr><th>1</th><td>M</td></tr><tr><th>2</th><td>F</td></tr><tr><th>3</th><td>F</td></tr></tbody></table>"
      ],
      "text/latex": [
       "\\begin{tabular}{r|c}\n",
       "\t& B\\\\\n",
       "\t\\hline\n",
       "\t& String\\\\\n",
       "\t\\hline\n",
       "\t1 & M \\\\\n",
       "\t2 & F \\\\\n",
       "\t3 & F \\\\\n",
       "\\end{tabular}\n"
      ],
      "text/plain": [
       "3×1 DataFrame\n",
       "│ Row │ B      │\n",
       "│     │ \u001b[90mString\u001b[39m │\n",
       "├─────┼────────┤\n",
       "│ 1   │ M      │\n",
       "│ 2   │ F      │\n",
       "│ 3   │ F      │"
      ]
     },
     "metadata": {},
     "output_type": "display_data"
    },
    {
     "data": {
      "text/plain": [
       "3-element Array{String,1}:\n",
       " \"M\"\n",
       " \"F\"\n",
       " \"F\""
      ]
     },
     "metadata": {},
     "output_type": "display_data"
    }
   ],
   "source": [
    "# returns a data frame\n",
    "foo = df[!, [:B]]\n",
    "display(foo)\n",
    "\n",
    "# returns an array\n",
    "bar = df[!, :B]\n",
    "display(bar)"
   ]
  },
  {
   "cell_type": "markdown",
   "metadata": {},
   "source": [
    "* More complex indices can be built using conditionals, or even regular expressions for columns. "
   ]
  },
  {
   "cell_type": "code",
   "execution_count": 12,
   "metadata": {},
   "outputs": [
    {
     "data": {
      "text/html": [
       "<table class=\"data-frame\"><thead><tr><th></th><th>A</th></tr><tr><th></th><th>Int64</th></tr></thead><tbody><p>3 rows × 1 columns</p><tr><th>1</th><td>1</td></tr><tr><th>2</th><td>1</td></tr><tr><th>3</th><td>3</td></tr></tbody></table>"
      ],
      "text/latex": [
       "\\begin{tabular}{r|c}\n",
       "\t& A\\\\\n",
       "\t\\hline\n",
       "\t& Int64\\\\\n",
       "\t\\hline\n",
       "\t1 & 1 \\\\\n",
       "\t2 & 1 \\\\\n",
       "\t3 & 3 \\\\\n",
       "\\end{tabular}\n"
      ],
      "text/plain": [
       "3×1 DataFrame\n",
       "│ Row │ A     │\n",
       "│     │ \u001b[90mInt64\u001b[39m │\n",
       "├─────┼───────┤\n",
       "│ 1   │ 1     │\n",
       "│ 2   │ 1     │\n",
       "│ 3   │ 3     │"
      ]
     },
     "execution_count": 12,
     "metadata": {},
     "output_type": "execute_result"
    }
   ],
   "source": [
    "using InvertedIndices\n",
    "\n",
    "# column by regular expression\n",
    "df[!, r\"A\"]\n",
    "\n",
    "# using a conditional\n",
    "df[!, ]"
   ]
  },
  {
   "cell_type": "code",
   "execution_count": 15,
   "metadata": {},
   "outputs": [
    {
     "data": {
      "text/html": [
       "<table class=\"data-frame\"><thead><tr><th></th><th>A</th><th>B</th></tr><tr><th></th><th>Int64</th><th>String</th></tr></thead><tbody><p>1 rows × 2 columns</p><tr><th>1</th><td>3</td><td>F</td></tr></tbody></table>"
      ],
      "text/latex": [
       "\\begin{tabular}{r|cc}\n",
       "\t& A & B\\\\\n",
       "\t\\hline\n",
       "\t& Int64 & String\\\\\n",
       "\t\\hline\n",
       "\t1 & 3 & F \\\\\n",
       "\\end{tabular}\n"
      ],
      "text/plain": [
       "1×2 DataFrame\n",
       "│ Row │ A     │ B      │\n",
       "│     │ \u001b[90mInt64\u001b[39m │ \u001b[90mString\u001b[39m │\n",
       "├─────┼───────┼────────┤\n",
       "│ 1   │ 3     │ F      │"
      ]
     },
     "execution_count": 15,
     "metadata": {},
     "output_type": "execute_result"
    }
   ],
   "source": [
    "df[df.A .> 1, :]\n"
   ]
  },
  {
   "cell_type": "markdown",
   "metadata": {},
   "source": [
    "## Selecting Columns\n",
    "Julia provides the `select` and `select!` functions to select, rename, and transform columns inside a data frame. "
   ]
  },
  {
   "cell_type": "code",
   "execution_count": 17,
   "metadata": {},
   "outputs": [
    {
     "data": {
      "text/html": [
       "<table class=\"data-frame\"><thead><tr><th></th><th>x1</th><th>x2</th></tr><tr><th></th><th>Int64</th><th>Int64</th></tr></thead><tbody><p>2 rows × 2 columns</p><tr><th>1</th><td>1</td><td>0</td></tr><tr><th>2</th><td>2</td><td>1</td></tr></tbody></table>"
      ],
      "text/latex": [
       "\\begin{tabular}{r|cc}\n",
       "\t& x1 & x2\\\\\n",
       "\t\\hline\n",
       "\t& Int64 & Int64\\\\\n",
       "\t\\hline\n",
       "\t1 & 1 & 0 \\\\\n",
       "\t2 & 2 & 1 \\\\\n",
       "\\end{tabular}\n"
      ],
      "text/plain": [
       "2×2 DataFrame\n",
       "│ Row │ x1    │ x2    │\n",
       "│     │ \u001b[90mInt64\u001b[39m │ \u001b[90mInt64\u001b[39m │\n",
       "├─────┼───────┼───────┤\n",
       "│ 1   │ 1     │ 0     │\n",
       "│ 2   │ 2     │ 1     │"
      ]
     },
     "execution_count": 17,
     "metadata": {},
     "output_type": "execute_result"
    }
   ],
   "source": [
    "df = DataFrame(x1 = [1,2], x2 = [3,4], y = [5,6])\n",
    "\n",
    "# drop column X1\n",
    "select(df, Not(:x1))\n",
    "\n",
    "# select column in regular expression\n",
    "select(df, r\"x\")\n",
    "\n",
    "# rename columns\n",
    "select(df, :x1 => :a1, :x2 => :a2)\n",
    "\n",
    "# transform\n",
    "select(df, :x1, :x2 => (x -> x .-minimum(x)) => :x2)\n"
   ]
  },
  {
   "cell_type": "code",
   "execution_count": 18,
   "metadata": {},
   "outputs": [
    {
     "data": {
      "text/html": [
       "<table class=\"data-frame\"><thead><tr><th></th><th>x2</th><th>y</th></tr><tr><th></th><th>Int64</th><th>Int64</th></tr></thead><tbody><p>2 rows × 2 columns</p><tr><th>1</th><td>3</td><td>5</td></tr><tr><th>2</th><td>4</td><td>6</td></tr></tbody></table>"
      ],
      "text/latex": [
       "\\begin{tabular}{r|cc}\n",
       "\t& x2 & y\\\\\n",
       "\t\\hline\n",
       "\t& Int64 & Int64\\\\\n",
       "\t\\hline\n",
       "\t1 & 3 & 5 \\\\\n",
       "\t2 & 4 & 6 \\\\\n",
       "\\end{tabular}\n"
      ],
      "text/plain": [
       "2×2 DataFrame\n",
       "│ Row │ x2    │ y     │\n",
       "│     │ \u001b[90mInt64\u001b[39m │ \u001b[90mInt64\u001b[39m │\n",
       "├─────┼───────┼───────┤\n",
       "│ 1   │ 3     │ 5     │\n",
       "│ 2   │ 4     │ 6     │"
      ]
     },
     "execution_count": 18,
     "metadata": {},
     "output_type": "execute_result"
    }
   ],
   "source": [
    "df = DataFrame(x1 = [1,2], x2 = [3,4], y = [5,6])\n",
    "\n",
    "# drop column X1\n",
    "select(df, Not(:x1))"
   ]
  },
  {
   "cell_type": "code",
   "execution_count": 19,
   "metadata": {},
   "outputs": [
    {
     "data": {
      "text/html": [
       "<table class=\"data-frame\"><thead><tr><th></th><th>x1</th><th>x2</th></tr><tr><th></th><th>Int64</th><th>Int64</th></tr></thead><tbody><p>2 rows × 2 columns</p><tr><th>1</th><td>1</td><td>3</td></tr><tr><th>2</th><td>2</td><td>4</td></tr></tbody></table>"
      ],
      "text/latex": [
       "\\begin{tabular}{r|cc}\n",
       "\t& x1 & x2\\\\\n",
       "\t\\hline\n",
       "\t& Int64 & Int64\\\\\n",
       "\t\\hline\n",
       "\t1 & 1 & 3 \\\\\n",
       "\t2 & 2 & 4 \\\\\n",
       "\\end{tabular}\n"
      ],
      "text/plain": [
       "2×2 DataFrame\n",
       "│ Row │ x1    │ x2    │\n",
       "│     │ \u001b[90mInt64\u001b[39m │ \u001b[90mInt64\u001b[39m │\n",
       "├─────┼───────┼───────┤\n",
       "│ 1   │ 1     │ 3     │\n",
       "│ 2   │ 2     │ 4     │"
      ]
     },
     "execution_count": 19,
     "metadata": {},
     "output_type": "execute_result"
    }
   ],
   "source": [
    "df = DataFrame(x1 = [1,2], x2 = [3,4], y = [5,6])\n",
    "\n",
    "# select column in regular expression\n",
    "select(df, r\"x\")"
   ]
  },
  {
   "cell_type": "code",
   "execution_count": 20,
   "metadata": {},
   "outputs": [
    {
     "data": {
      "text/html": [
       "<table class=\"data-frame\"><thead><tr><th></th><th>a1</th><th>a2</th></tr><tr><th></th><th>Int64</th><th>Int64</th></tr></thead><tbody><p>2 rows × 2 columns</p><tr><th>1</th><td>1</td><td>3</td></tr><tr><th>2</th><td>2</td><td>4</td></tr></tbody></table>"
      ],
      "text/latex": [
       "\\begin{tabular}{r|cc}\n",
       "\t& a1 & a2\\\\\n",
       "\t\\hline\n",
       "\t& Int64 & Int64\\\\\n",
       "\t\\hline\n",
       "\t1 & 1 & 3 \\\\\n",
       "\t2 & 2 & 4 \\\\\n",
       "\\end{tabular}\n"
      ],
      "text/plain": [
       "2×2 DataFrame\n",
       "│ Row │ a1    │ a2    │\n",
       "│     │ \u001b[90mInt64\u001b[39m │ \u001b[90mInt64\u001b[39m │\n",
       "├─────┼───────┼───────┤\n",
       "│ 1   │ 1     │ 3     │\n",
       "│ 2   │ 2     │ 4     │"
      ]
     },
     "execution_count": 20,
     "metadata": {},
     "output_type": "execute_result"
    }
   ],
   "source": [
    "df = DataFrame(x1 = [1,2], x2 = [3,4], y = [5,6])\n",
    "\n",
    "# rename columns\n",
    "select(df, :x1 => :a1, :x2 => :a2)"
   ]
  },
  {
   "cell_type": "code",
   "execution_count": 21,
   "metadata": {},
   "outputs": [
    {
     "data": {
      "text/html": [
       "<table class=\"data-frame\"><thead><tr><th></th><th>x1</th><th>x2</th></tr><tr><th></th><th>Int64</th><th>Int64</th></tr></thead><tbody><p>2 rows × 2 columns</p><tr><th>1</th><td>1</td><td>0</td></tr><tr><th>2</th><td>2</td><td>1</td></tr></tbody></table>"
      ],
      "text/latex": [
       "\\begin{tabular}{r|cc}\n",
       "\t& x1 & x2\\\\\n",
       "\t\\hline\n",
       "\t& Int64 & Int64\\\\\n",
       "\t\\hline\n",
       "\t1 & 1 & 0 \\\\\n",
       "\t2 & 2 & 1 \\\\\n",
       "\\end{tabular}\n"
      ],
      "text/plain": [
       "2×2 DataFrame\n",
       "│ Row │ x1    │ x2    │\n",
       "│     │ \u001b[90mInt64\u001b[39m │ \u001b[90mInt64\u001b[39m │\n",
       "├─────┼───────┼───────┤\n",
       "│ 1   │ 1     │ 0     │\n",
       "│ 2   │ 2     │ 1     │"
      ]
     },
     "execution_count": 21,
     "metadata": {},
     "output_type": "execute_result"
    }
   ],
   "source": [
    "df = DataFrame(x1 = [1,2], x2 = [3,4], y = [5,6])\n",
    "\n",
    "# transform\n",
    "select(df, :x1, :x2 => (x -> x .-minimum(x)) => :x2)\n"
   ]
  },
  {
   "cell_type": "code",
   "execution_count": 22,
   "metadata": {},
   "outputs": [
    {
     "data": {
      "text/html": [
       "<table class=\"data-frame\"><thead><tr><th></th><th>x2</th><th>x2_sqrt</th></tr><tr><th></th><th>Int64</th><th>Float64</th></tr></thead><tbody><p>2 rows × 2 columns</p><tr><th>1</th><td>3</td><td>1.73205</td></tr><tr><th>2</th><td>4</td><td>2.0</td></tr></tbody></table>"
      ],
      "text/latex": [
       "\\begin{tabular}{r|cc}\n",
       "\t& x2 & x2\\_sqrt\\\\\n",
       "\t\\hline\n",
       "\t& Int64 & Float64\\\\\n",
       "\t\\hline\n",
       "\t1 & 3 & 1.73205 \\\\\n",
       "\t2 & 4 & 2.0 \\\\\n",
       "\\end{tabular}\n"
      ],
      "text/plain": [
       "2×2 DataFrame\n",
       "│ Row │ x2    │ x2_sqrt │\n",
       "│     │ \u001b[90mInt64\u001b[39m │ \u001b[90mFloat64\u001b[39m │\n",
       "├─────┼───────┼─────────┤\n",
       "│ 1   │ 3     │ 1.73205 │\n",
       "│ 2   │ 4     │ 2.0     │"
      ]
     },
     "execution_count": 22,
     "metadata": {},
     "output_type": "execute_result"
    }
   ],
   "source": [
    "df = DataFrame(x1 = [1,2], x2 = [3,4], y = [5,6])\n",
    "\n",
    "# transform by row\n",
    "select(df, :x2, :x2 => ByRow(sqrt))"
   ]
  },
  {
   "cell_type": "markdown",
   "metadata": {},
   "source": [
    "It's important to know `select` will always return a data frame, even when passing a single column. By default selec copies columns of a passed source data frame. In order to avoid copying, pass `copycols=false`.\n",
    "\n",
    "We can perform the `select` operation in place with `select!`."
   ]
  },
  {
   "cell_type": "code",
   "execution_count": null,
   "metadata": {},
   "outputs": [],
   "source": [
    "select!(df, Not(:X1))"
   ]
  },
  {
   "cell_type": "markdown",
   "metadata": {},
   "source": [
    "## Transforming Data Frames\n",
    "The functions `transform` and `transform!` work similar to `select`, but retail all columns that are present in the source data frame. "
   ]
  },
  {
   "cell_type": "code",
   "execution_count": 23,
   "metadata": {},
   "outputs": [
    {
     "data": {
      "text/html": [
       "<table class=\"data-frame\"><thead><tr><th></th><th>x1</th><th>x2</th><th>y</th><th>x1_x2_y_+</th></tr><tr><th></th><th>Int64</th><th>Int64</th><th>Int64</th><th>Int64</th></tr></thead><tbody><p>2 rows × 4 columns</p><tr><th>1</th><td>1</td><td>3</td><td>5</td><td>9</td></tr><tr><th>2</th><td>2</td><td>4</td><td>6</td><td>12</td></tr></tbody></table>"
      ],
      "text/latex": [
       "\\begin{tabular}{r|cccc}\n",
       "\t& x1 & x2 & y & x1\\_x2\\_y\\_+\\\\\n",
       "\t\\hline\n",
       "\t& Int64 & Int64 & Int64 & Int64\\\\\n",
       "\t\\hline\n",
       "\t1 & 1 & 3 & 5 & 9 \\\\\n",
       "\t2 & 2 & 4 & 6 & 12 \\\\\n",
       "\\end{tabular}\n"
      ],
      "text/plain": [
       "2×4 DataFrame\n",
       "│ Row │ x1    │ x2    │ y     │ x1_x2_y_+ │\n",
       "│     │ \u001b[90mInt64\u001b[39m │ \u001b[90mInt64\u001b[39m │ \u001b[90mInt64\u001b[39m │ \u001b[90mInt64\u001b[39m     │\n",
       "├─────┼───────┼───────┼───────┼───────────┤\n",
       "│ 1   │ 1     │ 3     │ 5     │ 9         │\n",
       "│ 2   │ 2     │ 4     │ 6     │ 12        │"
      ]
     },
     "execution_count": 23,
     "metadata": {},
     "output_type": "execute_result"
    }
   ],
   "source": [
    "df = DataFrame(x1 = [1,2], x2 = [3,4], y = [5,6])\n",
    "transform(df, All() => +)"
   ]
  },
  {
   "cell_type": "markdown",
   "metadata": {},
   "source": [
    "Using the `ByRow` wrapper, we can easily compute for each row the name of the column with the highest score. "
   ]
  },
  {
   "cell_type": "code",
   "execution_count": 24,
   "metadata": {},
   "outputs": [
    {
     "data": {
      "text/html": [
       "<table class=\"data-frame\"><thead><tr><th></th><th>a</th><th>b</th><th>c</th><th>prediction</th></tr><tr><th></th><th>Float64</th><th>Float64</th><th>Float64</th><th>Symbol</th></tr></thead><tbody><p>10 rows × 4 columns</p><tr><th>1</th><td>0.236033</td><td>0.555751</td><td>0.0769509</td><td>b</td></tr><tr><th>2</th><td>0.346517</td><td>0.437108</td><td>0.640396</td><td>c</td></tr><tr><th>3</th><td>0.312707</td><td>0.424718</td><td>0.873544</td><td>c</td></tr><tr><th>4</th><td>0.00790928</td><td>0.773223</td><td>0.278582</td><td>b</td></tr><tr><th>5</th><td>0.488613</td><td>0.28119</td><td>0.751313</td><td>c</td></tr><tr><th>6</th><td>0.210968</td><td>0.209472</td><td>0.644883</td><td>c</td></tr><tr><th>7</th><td>0.951916</td><td>0.251379</td><td>0.0778264</td><td>a</td></tr><tr><th>8</th><td>0.999905</td><td>0.0203749</td><td>0.848185</td><td>a</td></tr><tr><th>9</th><td>0.251662</td><td>0.287702</td><td>0.0856352</td><td>b</td></tr><tr><th>10</th><td>0.986666</td><td>0.859512</td><td>0.553206</td><td>a</td></tr></tbody></table>"
      ],
      "text/latex": [
       "\\begin{tabular}{r|cccc}\n",
       "\t& a & b & c & prediction\\\\\n",
       "\t\\hline\n",
       "\t& Float64 & Float64 & Float64 & Symbol\\\\\n",
       "\t\\hline\n",
       "\t1 & 0.236033 & 0.555751 & 0.0769509 & b \\\\\n",
       "\t2 & 0.346517 & 0.437108 & 0.640396 & c \\\\\n",
       "\t3 & 0.312707 & 0.424718 & 0.873544 & c \\\\\n",
       "\t4 & 0.00790928 & 0.773223 & 0.278582 & b \\\\\n",
       "\t5 & 0.488613 & 0.28119 & 0.751313 & c \\\\\n",
       "\t6 & 0.210968 & 0.209472 & 0.644883 & c \\\\\n",
       "\t7 & 0.951916 & 0.251379 & 0.0778264 & a \\\\\n",
       "\t8 & 0.999905 & 0.0203749 & 0.848185 & a \\\\\n",
       "\t9 & 0.251662 & 0.287702 & 0.0856352 & b \\\\\n",
       "\t10 & 0.986666 & 0.859512 & 0.553206 & a \\\\\n",
       "\\end{tabular}\n"
      ],
      "text/plain": [
       "10×4 DataFrame\n",
       "│ Row │ a          │ b         │ c         │ prediction │\n",
       "│     │ \u001b[90mFloat64\u001b[39m    │ \u001b[90mFloat64\u001b[39m   │ \u001b[90mFloat64\u001b[39m   │ \u001b[90mSymbol\u001b[39m     │\n",
       "├─────┼────────────┼───────────┼───────────┼────────────┤\n",
       "│ 1   │ 0.236033   │ 0.555751  │ 0.0769509 │ b          │\n",
       "│ 2   │ 0.346517   │ 0.437108  │ 0.640396  │ c          │\n",
       "│ 3   │ 0.312707   │ 0.424718  │ 0.873544  │ c          │\n",
       "│ 4   │ 0.00790928 │ 0.773223  │ 0.278582  │ b          │\n",
       "│ 5   │ 0.488613   │ 0.28119   │ 0.751313  │ c          │\n",
       "│ 6   │ 0.210968   │ 0.209472  │ 0.644883  │ c          │\n",
       "│ 7   │ 0.951916   │ 0.251379  │ 0.0778264 │ a          │\n",
       "│ 8   │ 0.999905   │ 0.0203749 │ 0.848185  │ a          │\n",
       "│ 9   │ 0.251662   │ 0.287702  │ 0.0856352 │ b          │\n",
       "│ 10  │ 0.986666   │ 0.859512  │ 0.553206  │ a          │"
      ]
     },
     "execution_count": 24,
     "metadata": {},
     "output_type": "execute_result"
    }
   ],
   "source": [
    "using Random\n",
    "Random.seed!(1)\n",
    "\n",
    "df = DataFrame(rand(10,3), [:a, :b, :c])\n",
    "\n",
    "transform(df, AsTable(:) => ByRow(argmax) => :prediction)"
   ]
  },
  {
   "cell_type": "markdown",
   "metadata": {},
   "source": [
    "## Summarize Data\n",
    "To summarize data we can use the `describe` function. "
   ]
  },
  {
   "cell_type": "code",
   "execution_count": 26,
   "metadata": {},
   "outputs": [
    {
     "data": {
      "text/html": [
       "<table class=\"data-frame\"><thead><tr><th></th><th>variable</th><th>mean</th><th>min</th><th>median</th><th>max</th><th>nunique</th><th>nmissing</th><th>eltype</th></tr><tr><th></th><th>Symbol</th><th>Float64</th><th>Int64</th><th>Float64</th><th>Int64</th><th>Nothing</th><th>Nothing</th><th>DataType</th></tr></thead><tbody><p>1 rows × 8 columns</p><tr><th>1</th><td>A</td><td>2.5</td><td>1</td><td>2.5</td><td>4</td><td></td><td></td><td>Int64</td></tr></tbody></table>"
      ],
      "text/latex": [
       "\\begin{tabular}{r|cccccccc}\n",
       "\t& variable & mean & min & median & max & nunique & nmissing & eltype\\\\\n",
       "\t\\hline\n",
       "\t& Symbol & Float64 & Int64 & Float64 & Int64 & Nothing & Nothing & DataType\\\\\n",
       "\t\\hline\n",
       "\t1 & A & 2.5 & 1 & 2.5 & 4 &  &  & Int64 \\\\\n",
       "\\end{tabular}\n"
      ],
      "text/plain": [
       "1×8 DataFrame. Omitted printing of 1 columns\n",
       "│ Row │ variable │ mean    │ min   │ median  │ max   │ nunique │ nmissing │\n",
       "│     │ \u001b[90mSymbol\u001b[39m   │ \u001b[90mFloat64\u001b[39m │ \u001b[90mInt64\u001b[39m │ \u001b[90mFloat64\u001b[39m │ \u001b[90mInt64\u001b[39m │ \u001b[90mNothing\u001b[39m │ \u001b[90mNothing\u001b[39m  │\n",
       "├─────┼──────────┼─────────┼───────┼─────────┼───────┼─────────┼──────────┤\n",
       "│ 1   │ A        │ 2.5     │ 1     │ 2.5     │ 4     │         │          │"
      ]
     },
     "execution_count": 26,
     "metadata": {},
     "output_type": "execute_result"
    }
   ],
   "source": [
    "df = DataFrame(A=1:4, B=[\"M\", \"F\", \"M\", \"F\"])\n",
    "describe(df); \n",
    "\n",
    "describe(df[!, [:A]])"
   ]
  },
  {
   "cell_type": "markdown",
   "metadata": {},
   "source": [
    "We can also apply a function to each column of a data frame using combine."
   ]
  },
  {
   "cell_type": "code",
   "execution_count": 27,
   "metadata": {},
   "outputs": [
    {
     "data": {
      "text/html": [
       "<table class=\"data-frame\"><thead><tr><th></th><th>A_sum</th><th>B_sum</th></tr><tr><th></th><th>Int64</th><th>Float64</th></tr></thead><tbody><p>1 rows × 2 columns</p><tr><th>1</th><td>10</td><td>10.0</td></tr></tbody></table>"
      ],
      "text/latex": [
       "\\begin{tabular}{r|cc}\n",
       "\t& A\\_sum & B\\_sum\\\\\n",
       "\t\\hline\n",
       "\t& Int64 & Float64\\\\\n",
       "\t\\hline\n",
       "\t1 & 10 & 10.0 \\\\\n",
       "\\end{tabular}\n"
      ],
      "text/plain": [
       "1×2 DataFrame\n",
       "│ Row │ A_sum │ B_sum   │\n",
       "│     │ \u001b[90mInt64\u001b[39m │ \u001b[90mFloat64\u001b[39m │\n",
       "├─────┼───────┼─────────┤\n",
       "│ 1   │ 10    │ 10.0    │"
      ]
     },
     "execution_count": 27,
     "metadata": {},
     "output_type": "execute_result"
    }
   ],
   "source": [
    "df = DataFrame(A=1:4, B=4.0:-1.0:1.0)\n",
    "\n",
    "combine(df, names(df) .=> sum)"
   ]
  },
  {
   "cell_type": "code",
   "execution_count": 28,
   "metadata": {},
   "outputs": [
    {
     "data": {
      "text/html": [
       "<table class=\"data-frame\"><thead><tr><th></th><th>A_sum</th><th>B_sum</th><th>A_prod</th><th>B_prod</th></tr><tr><th></th><th>Int64</th><th>Float64</th><th>Int64</th><th>Float64</th></tr></thead><tbody><p>1 rows × 4 columns</p><tr><th>1</th><td>10</td><td>10.0</td><td>24</td><td>24.0</td></tr></tbody></table>"
      ],
      "text/latex": [
       "\\begin{tabular}{r|cccc}\n",
       "\t& A\\_sum & B\\_sum & A\\_prod & B\\_prod\\\\\n",
       "\t\\hline\n",
       "\t& Int64 & Float64 & Int64 & Float64\\\\\n",
       "\t\\hline\n",
       "\t1 & 10 & 10.0 & 24 & 24.0 \\\\\n",
       "\\end{tabular}\n"
      ],
      "text/plain": [
       "1×4 DataFrame\n",
       "│ Row │ A_sum │ B_sum   │ A_prod │ B_prod  │\n",
       "│     │ \u001b[90mInt64\u001b[39m │ \u001b[90mFloat64\u001b[39m │ \u001b[90mInt64\u001b[39m  │ \u001b[90mFloat64\u001b[39m │\n",
       "├─────┼───────┼─────────┼────────┼─────────┤\n",
       "│ 1   │ 10    │ 10.0    │ 24     │ 24.0    │"
      ]
     },
     "execution_count": 28,
     "metadata": {},
     "output_type": "execute_result"
    }
   ],
   "source": [
    "df = DataFrame(A=1:4, B=4.0:-1.0:1.0)\n",
    "\n",
    "combine(df, names(df) .=> sum, names(df) .=> prod)"
   ]
  },
  {
   "cell_type": "code",
   "execution_count": null,
   "metadata": {},
   "outputs": [],
   "source": []
  }
 ],
 "metadata": {
  "kernelspec": {
   "display_name": "Julia 1.4.1",
   "language": "julia",
   "name": "julia-1.4"
  },
  "language_info": {
   "file_extension": ".jl",
   "mimetype": "application/julia",
   "name": "julia",
   "version": "1.4.1"
  }
 },
 "nbformat": 4,
 "nbformat_minor": 2
}
